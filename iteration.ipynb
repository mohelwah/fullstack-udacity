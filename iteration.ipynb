{
 "cells": [
  {
   "cell_type": "code",
   "execution_count": 2,
   "metadata": {},
   "outputs": [],
   "source": [
    "from sqlalchemy import create_engine\n",
    "from sqlalchemy.orm import sessionmaker\n",
    "\n",
    "from database_setup import Restaurant, Base, MenuItem\n",
    "\n",
    "engine = create_engine('sqlite:///restaurantmenu.db')\n",
    "# Bind the engine to the metadata of the Base class so that the\n",
    "# declaratives can be accessed through a DBSession instance\n",
    "Base.metadata.bind = engine\n",
    "\n",
    "DBSession = sessionmaker(bind=engine)\n",
    "# A DBSession() instance establishes all conversations with the database\n",
    "# and represents a \"staging zone\" for all the objects loaded into the\n",
    "# database session object. Any change made against the objects in the\n",
    "# session won't be persisted into the database until you call\n",
    "# session.commit(). If you're not happy about the changes, you can\n",
    "# revert all of them back to the last commit by calling\n",
    "# session.rollback()\n",
    "session = DBSession()"
   ]
  },
  {
   "cell_type": "code",
   "execution_count": 16,
   "metadata": {},
   "outputs": [
    {
     "data": {
      "text/plain": [
       "8"
      ]
     },
     "execution_count": 16,
     "metadata": {},
     "output_type": "execute_result"
    }
   ],
   "source": [
    "searches = session.query(MenuItem).filter_by(id=8).one()\n",
    "searches.id"
   ]
  },
  {
   "cell_type": "code",
   "execution_count": 8,
   "metadata": {},
   "outputs": [
    {
     "name": "stdout",
     "output_type": "stream",
     "text": [
      "8 $3.49 Grilled Cheese Sandwich Urban Burger\n"
     ]
    }
   ],
   "source": [
    "for s in searches:\n",
    "    print(s.id,s.price, s.name, s.restaurant.name)"
   ]
  },
  {
   "cell_type": "code",
   "execution_count": 17,
   "metadata": {},
   "outputs": [],
   "source": [
    "searches.price = \"$1.00\""
   ]
  },
  {
   "cell_type": "code",
   "execution_count": 18,
   "metadata": {},
   "outputs": [],
   "source": [
    "session.add(searches)"
   ]
  },
  {
   "cell_type": "code",
   "execution_count": 19,
   "metadata": {},
   "outputs": [],
   "source": [
    "session.commit()"
   ]
  },
  {
   "cell_type": "code",
   "execution_count": 20,
   "metadata": {},
   "outputs": [
    {
     "data": {
      "text/plain": [
       "'$1.00'"
      ]
     },
     "execution_count": 20,
     "metadata": {},
     "output_type": "execute_result"
    }
   ],
   "source": [
    "d = session.query(MenuItem).filter_by(id=8).one()\n",
    "d.price"
   ]
  },
  {
   "cell_type": "code",
   "execution_count": 22,
   "metadata": {},
   "outputs": [
    {
     "data": {
      "text/plain": [
       "'Veggie Burger'"
      ]
     },
     "execution_count": 22,
     "metadata": {},
     "output_type": "execute_result"
    }
   ],
   "source": [
    "sp = session.query(MenuItem).filter_by(id=1).one()\n",
    "sp.name"
   ]
  },
  {
   "cell_type": "code",
   "execution_count": 23,
   "metadata": {},
   "outputs": [],
   "source": [
    "session.delete(sp)\n",
    "session.commit()"
   ]
  },
  {
   "cell_type": "code",
   "execution_count": 24,
   "metadata": {},
   "outputs": [
    {
     "ename": "NoResultFound",
     "evalue": "No row was found when one was required",
     "output_type": "error",
     "traceback": [
      "\u001b[1;31m---------------------------------------------------------------------------\u001b[0m",
      "\u001b[1;31mNoResultFound\u001b[0m                             Traceback (most recent call last)",
      "Cell \u001b[1;32mIn[24], line 1\u001b[0m\n\u001b[1;32m----> 1\u001b[0m session\u001b[39m.\u001b[39;49mquery(MenuItem)\u001b[39m.\u001b[39;49mfilter_by(\u001b[39mid\u001b[39;49m\u001b[39m=\u001b[39;49m\u001b[39m1\u001b[39;49m)\u001b[39m.\u001b[39;49mone()\n",
      "File \u001b[1;32mc:\\Users\\root\\AppData\\Local\\Programs\\Python\\Python311\\Lib\\site-packages\\sqlalchemy\\orm\\query.py:2797\u001b[0m, in \u001b[0;36mQuery.one\u001b[1;34m(self)\u001b[0m\n\u001b[0;32m   2775\u001b[0m \u001b[39mdef\u001b[39;00m \u001b[39mone\u001b[39m(\u001b[39mself\u001b[39m) \u001b[39m-\u001b[39m\u001b[39m>\u001b[39m _T:\n\u001b[0;32m   2776\u001b[0m \u001b[39m    \u001b[39m\u001b[39m\"\"\"Return exactly one result or raise an exception.\u001b[39;00m\n\u001b[0;32m   2777\u001b[0m \n\u001b[0;32m   2778\u001b[0m \u001b[39m    Raises ``sqlalchemy.orm.exc.NoResultFound`` if the query selects\u001b[39;00m\n\u001b[1;32m   (...)\u001b[0m\n\u001b[0;32m   2795\u001b[0m \n\u001b[0;32m   2796\u001b[0m \u001b[39m    \"\"\"\u001b[39;00m\n\u001b[1;32m-> 2797\u001b[0m     \u001b[39mreturn\u001b[39;00m \u001b[39mself\u001b[39;49m\u001b[39m.\u001b[39;49m_iter()\u001b[39m.\u001b[39;49mone()\n",
      "File \u001b[1;32mc:\\Users\\root\\AppData\\Local\\Programs\\Python\\Python311\\Lib\\site-packages\\sqlalchemy\\engine\\result.py:1825\u001b[0m, in \u001b[0;36mScalarResult.one\u001b[1;34m(self)\u001b[0m\n\u001b[0;32m   1817\u001b[0m \u001b[39mdef\u001b[39;00m \u001b[39mone\u001b[39m(\u001b[39mself\u001b[39m) \u001b[39m-\u001b[39m\u001b[39m>\u001b[39m _R:\n\u001b[0;32m   1818\u001b[0m \u001b[39m    \u001b[39m\u001b[39m\"\"\"Return exactly one object or raise an exception.\u001b[39;00m\n\u001b[0;32m   1819\u001b[0m \n\u001b[0;32m   1820\u001b[0m \u001b[39m    Equivalent to :meth:`_engine.Result.one` except that\u001b[39;00m\n\u001b[1;32m   (...)\u001b[0m\n\u001b[0;32m   1823\u001b[0m \n\u001b[0;32m   1824\u001b[0m \u001b[39m    \"\"\"\u001b[39;00m\n\u001b[1;32m-> 1825\u001b[0m     \u001b[39mreturn\u001b[39;00m \u001b[39mself\u001b[39;49m\u001b[39m.\u001b[39;49m_only_one_row(\n\u001b[0;32m   1826\u001b[0m         raise_for_second_row\u001b[39m=\u001b[39;49m\u001b[39mTrue\u001b[39;49;00m, raise_for_none\u001b[39m=\u001b[39;49m\u001b[39mTrue\u001b[39;49;00m, scalar\u001b[39m=\u001b[39;49m\u001b[39mFalse\u001b[39;49;00m\n\u001b[0;32m   1827\u001b[0m     )\n",
      "File \u001b[1;32mc:\\Users\\root\\AppData\\Local\\Programs\\Python\\Python311\\Lib\\site-packages\\sqlalchemy\\engine\\result.py:763\u001b[0m, in \u001b[0;36mResultInternal._only_one_row\u001b[1;34m(self, raise_for_second_row, raise_for_none, scalar)\u001b[0m\n\u001b[0;32m    761\u001b[0m \u001b[39mif\u001b[39;00m row \u001b[39mis\u001b[39;00m \u001b[39mNone\u001b[39;00m:\n\u001b[0;32m    762\u001b[0m     \u001b[39mif\u001b[39;00m raise_for_none:\n\u001b[1;32m--> 763\u001b[0m         \u001b[39mraise\u001b[39;00m exc\u001b[39m.\u001b[39mNoResultFound(\n\u001b[0;32m    764\u001b[0m             \u001b[39m\"\u001b[39m\u001b[39mNo row was found when one was required\u001b[39m\u001b[39m\"\u001b[39m\n\u001b[0;32m    765\u001b[0m         )\n\u001b[0;32m    766\u001b[0m     \u001b[39melse\u001b[39;00m:\n\u001b[0;32m    767\u001b[0m         \u001b[39mreturn\u001b[39;00m \u001b[39mNone\u001b[39;00m\n",
      "\u001b[1;31mNoResultFound\u001b[0m: No row was found when one was required"
     ]
    }
   ],
   "source": [
    "session.query(MenuItem).filter_by(id=1).one()"
   ]
  }
 ],
 "metadata": {
  "kernelspec": {
   "display_name": "free",
   "language": "python",
   "name": "free"
  },
  "language_info": {
   "codemirror_mode": {
    "name": "ipython",
    "version": 3
   },
   "file_extension": ".py",
   "mimetype": "text/x-python",
   "name": "python",
   "nbconvert_exporter": "python",
   "pygments_lexer": "ipython3",
   "version": "3.11.2"
  },
  "orig_nbformat": 4
 },
 "nbformat": 4,
 "nbformat_minor": 2
}
